{
 "cells": [
  {
   "cell_type": "markdown",
   "metadata": {},
   "source": [
    "# 과제 1\n",
    "- 다음 6 개의 Expression에 대해 Evaluation 결과 값을 출력하고, 해당 결과가 나온 이유에 대해 설명하시오.\n",
    " - 1 and 2 and 3 and 4\n",
    " - 1 or 2 or 3 or 4\n",
    " - 1 and 2 or 3 and 4\n",
    " - (1 and 2) or (3 and 4)\n",
    " - 1 or 2 and 3 or 4\n",
    " - (1 or 2) and (3 or 4)"
   ]
  },
  {
   "cell_type": "code",
   "execution_count": 9,
   "metadata": {
    "scrolled": true
   },
   "outputs": [
    {
     "name": "stdout",
     "output_type": "stream",
     "text": [
      "4\n",
      "1\n",
      "2\n",
      "2\n",
      "1\n",
      "3\n"
     ]
    }
   ],
   "source": [
    "print(1 and 2 and 3 and 4)\n",
    "print(1 or 2 or 3 or 4)\n",
    "print(1 and 2 or 3 and 4)\n",
    "print((1 and 2) or (3 and 4))\n",
    "print(1 or 2 and 3 or 4)\n",
    "print((1 or 2) and (3 or 4))"
   ]
  },
  {
   "cell_type": "markdown",
   "metadata": {},
   "source": [
    "1. 0이 아니면 모두 참으로 받아들이기 때문에 1,2,3,4 모두 참이다. and연산자는 앞과 뒤의 값이 모두 참이어야 참값을 반환하기 때문에 앞,뒤를 모두 확인하고 뒤의 값을 반환하기 때문에 1번은 4가 출력된다.\n",
    "2. or 연산자는 앞의 값이 참이면 뒤의 값을 확인하지 않고 앞의 값을 반환하기 때문에 2번은 1이 출력된다.\n",
    "3. 1,2번을 참고하여 1 and 2 는 2, 2 or 3은 앞의 것을 반환해서 2가 출력된다.\n",
    "4. 괄호안을 먼저 검사하지만 (1 and 2)의 값이 or의 앞의 값이기 때문에 1 and 2의 값인 2가 출력된다.\n",
    "5. or연산자가 1 or 2......로 나왔기 때문에 1이 출력된다.\n",
    "6. 괄호로 or연산자가 묶여있고 두 괄호가 and연산자로 연결되기 때문에 and의 뒤의 값, 3 or 4의 값인 3이 출력된다."
   ]
  },
  {
   "cell_type": "markdown",
   "metadata": {},
   "source": [
    "# 과제 2\n",
    "- 경로에 해당하는 문자열 1개를 입력 받아 그 안에 디렉토리 경로명과 파일명을 분리하여 리스트로 반환하는 함수 div_path(s)를 작성하시오.\n",
    " - 인자로 전달하는 문자열은 경로만 들어간다고 가정한다.\n",
    " - 각 디렉토리와 파일을 구분하는 문자는 '/'로 가정한다.\n",
    " - 반환하는 리스트의 첫번째 원소는 디렉토리이고 두번째 원소는 파일명이다.\n",
    " - 다음과 같은 실행 및 출력 결과가 도출되어야 한다.\n",
    "  - div_path('/usr/local/bin/python')\n",
    "   - ['/usr/local/bin', 'python']\n",
    "  - div_path('/home/chulsoo/test.txt')\n",
    "   - ['/home/chulsoo', 'test.txt']\n",
    " - [참고] 리스트(l) 내에 새로운 정수값 (예를 들어 10)을 넣는 방법은 l.append(10) 이다."
   ]
  },
  {
   "cell_type": "code",
   "execution_count": 1,
   "metadata": {
    "scrolled": true
   },
   "outputs": [
    {
     "name": "stdout",
     "output_type": "stream",
     "text": [
      "주소를 입력하시오.: User/pyth/python.exe\n",
      "['User/pyth', 'python.exe']\n"
     ]
    }
   ],
   "source": [
    "def div_path(s):\n",
    "    s=s.split(\"/\")\n",
    "    p=s.pop()\n",
    "    s=\"/\".join(s)\n",
    "    l=[s]\n",
    "    l.append(p)\n",
    "    return l\n",
    "a= input(\"주소를 입력하시오.: \")\n",
    "print(div_path(a))"
   ]
  },
  {
   "cell_type": "markdown",
   "metadata": {
    "collapsed": true
   },
   "source": [
    "입력받은 주소를 split를 이용하여 /를 기준으로 단어로 나누고 리스트로 나누고 마지막 요소를 빼내어 저장하고\n",
    "\n",
    "join으로 리스트를 다시 /를 기준으로 합칩니다. 그후 append로 빼낸 요소를 마지막에 다시 넣고 이를 반환합니다."
   ]
  },
  {
   "cell_type": "markdown",
   "metadata": {},
   "source": [
    "# 과제 3\n",
    "- 두 개의 리스트를 인자로 받아서 그 두 개의 리스트에 대한 '합집합'을 반환하는 함수 list_union(lista, listb)를 작성하시오.\n",
    " - 인자로 전달하는 리스트 2 개에는 정수값만 들어간다고 가정하자.\n",
    " - 함수 내에서 새로운 리스트를 만들어 그 리스트 내에 인자로 받은 두 리스트의 모든 원소를 넣어 반환한다.\n",
    " - 반환하는 리스트에는 절대로 중복된 원소가 들어 있으면 안된다 (집합의 조건).\n",
    " - 반환하는 리스트는 정렬이 되어 있어야 한다.\n",
    " - 다음과 같은 실행 및 출력 결과가 도출되어야 한다.\n",
    "   - list_union([1, 2, 3], [1, 2, 4])\n",
    "     - [1, 2, 3, 4]\n",
    "   - list_union([-10, -5, 0, -1], [100, 9, 0, 9])\n",
    "     - [-10, -5, -1, 0, 9, 100]\n",
    "   - list_union([0, 1, 2], [0, 1, 2])\n",
    "     - [0, 1, 2]\n",
    " - [참고] 리스트(l) 내에 새로운 정수값 (예를 들어 10)을 넣는 방법은 l.append(10) 이다.\n",
    " - [참고] 임의의 정수값 (x)이 리스트 (l) 내에 존재하는지 판단하는 방법은 x in l 이다."
   ]
  },
  {
   "cell_type": "code",
   "execution_count": 10,
   "metadata": {},
   "outputs": [
    {
     "name": "stdout",
     "output_type": "stream",
     "text": [
      "[1, 2, 3, 4, 5, 6, 7, 8]\n"
     ]
    }
   ],
   "source": [
    "def list_union(x,y):\n",
    "    x.extend(y)\n",
    "    x.sort()\n",
    "    z=[]\n",
    "    for i in range(1, len(x)):\n",
    "        if(x[i-1]==x[i]):\n",
    "            z.append(x[i])\n",
    "    for j in range(len(z)):\n",
    "        x.remove(z[j])\n",
    "    return x\n",
    "q=[1,3,2,6,5]\n",
    "w=[4,2,5,7,8]\n",
    "e=list_union(q,w)\n",
    "print(e)"
   ]
  },
  {
   "cell_type": "markdown",
   "metadata": {
    "collapsed": true
   },
   "source": [
    "extend를 사용하여 두 리스트를 합하고 정렬을 해주면 숫자가 순서대로 정렬됩니다. 이중 앞뒤로 같은 숫자가 있다면\n",
    "하나를 빼주기 위해 remove를 사용했습니다.\n",
    "\n",
    "처음 리스트의 길이를 for문에 사용했더니 remove를 해도 for문에 사용한 range값은 변하지 않아서 인덱스는 줄어들었지만 len은 줄어들지 않아\n",
    "\n",
    "오류가 계속 발생해서 중복된 숫자를 다른 리스트에 저장하고 이 리스트의 숫자들을 처음 리스트에서 빼는 방식으로 만들었습니다."
   ]
  },
  {
   "cell_type": "markdown",
   "metadata": {},
   "source": [
    "# 1110번 문제\n",
    "- 0보다 크거나 같고, 99보다 작거나 같은 정수가 주어질 때 다음과 같은 연산을 할 수 있다. 먼저 주어진 수가 10보다 작다면 앞에 0을 붙여 두 자리 수로 만들고, 각 자리의 숫자를 더한다. 그 다음, 주어진 수의 가장 오른쪽 자리 숫자와 앞에서 구한 합의 가장 오른쪽 자리 숫자를 이어 붙이면 새로운 수를 만들 수 있다. 다음 예를 보자.\n",
    "\n",
    "- 26부터 시작한다. 2+6 = 8이다. 새로운 숫자는 68이다. 6+8 = 14이다. 새로운 숫자는 84이다. 8+4 = 12이다. 새로운 숫자는 42이다. 4+2 = 6이다. 새로운 숫자는 26이다.\n",
    "\n",
    "- 위의 예는 4번만에 원래 숫자로 돌아올 수 있다. 따라서 26의 사이클의 길이는 4이다.\n",
    "\n",
    "- N이 주어졌을 때, N의 사이클의 길이를 구하는 프로그램을 작성하시오.\n"
   ]
  },
  {
   "cell_type": "code",
   "execution_count": 8,
   "metadata": {},
   "outputs": [
    {
     "name": "stdout",
     "output_type": "stream",
     "text": [
      "26\n",
      "4\n"
     ]
    }
   ],
   "source": [
    "number=int(input())\n",
    "num=number\n",
    "count=0\n",
    "while(num!=number or count==0):\n",
    "    a=int(num/10)\n",
    "    b=num%10\n",
    "    c=(a+b)%10\n",
    "    a=b\n",
    "    b=c\n",
    "    num=a*10+b\n",
    "    count+=1\n",
    "print(count)"
   ]
  },
  {
   "cell_type": "markdown",
   "metadata": {
    "collapsed": true
   },
   "source": [
    "입력의 자료형을 int형으로 받아들이고 이를 num에 저장합니다. 입력받은 수의 10의 자리를 a, 1의 자리를  b에 저장하고 이 둘을 합친 것의 1의\n",
    "\n",
    "자리를 c에 저장한다. 이를 a에는 b를, b에는 c를 저장하고 a를 10의 자리로, b를 1의 자리로 갖는 숫자로 만들어 number에 저장함 count를 ++한다.\n",
    "\n",
    "이 과정을 number가 초기 값과 같아 질 때까지 반복하고 count를 반환합니다. 처음에 시작할 때 number와 num의 값이 같기 때문에 count가 0일 때는 제외합니다."
   ]
  },
  {
   "cell_type": "markdown",
   "metadata": {
    "collapsed": true
   },
   "source": [
    "![1110.PNG](1110.PNG)"
   ]
  },
  {
   "cell_type": "markdown",
   "metadata": {},
   "source": [
    "# 과제4\n",
    "- [Incremental Project] 웹 URL로 지정된 웹페이지를 문자열로 가져와 1) 모든 HTML 태그를 제외한 순수 텍스트 문자열만을 걸러내고, 2) 그 순수 텍스트 문자열 안에 존재하는 단어가 총 몇개인지 출력하는 프로그램을 작성하시오.\n",
    "\n",
    "    - HTML 태그는 다음 조건을 가지는 것이다.\n",
    "\n",
    "        - < 로 시작하여 >로 끝난다.\n",
    "        - 예를 들어, 아래와 같은 HTML 내용 내에 한 줄이 있다고 가정하자.\n",
    "        \n",
    "    ```<label for=\"keep_signed\">로그인 유지</label>```\n",
    "        - 위 소스에서 HTML 태그를 제외한 순수 텍스트 문자열은 아래와 같다.\n",
    "로그인 유지\n",
    "        - 한편, 아래와 같은 HTML 한 줄이 있다고 가정하자.\n",
    "    \n",
    "    ```<link rel=\"stylesheet\" href=\"/common/css/xe.min.css?20150910092654\" />```\n",
    "        - 위 소스는 HTML 태그로만 구성된 것이며 걸러낼 수 있는 순수 텍스 문자열은 존재하지 않는다.\n",
    "    - 단어를 나누는 기준은 오로지 공백문자 (whitespace)이다.\n",
    "\n",
    "        - 즉, 위 순수 텍스트 문자열인 \"로그인 유지\"에서 분리한 단어는 \"로그인\"과 \"유지\"이다.\n",
    "    - 중복을 고려하지 않고 무조건 모든 단어의 개수를 세어서 출력한다.\n",
    "    - 본 숙제를 위하여 HTML 파싱과 관련된 모듈 (예. BeautifulSoup) 사용 금지\n",
    "    - 다음은 URL로 지정된 웹페이지를 특정 문자열로 가져오는 코드이다.\n",
    "        - 즉, 숙제 코드는 아래 코드로 부터 시작해야 한다."
   ]
  },
  {
   "cell_type": "code",
   "execution_count": 15,
   "metadata": {},
   "outputs": [
    {
     "name": "stdout",
     "output_type": "stream",
     "text": [
      "454\n"
     ]
    }
   ],
   "source": [
    "from urllib import request \n",
    "\n",
    "url = 'http://cse.koreatech.ac.kr'\n",
    "f = request.urlopen(url)\n",
    "source_bytes = f.read()\n",
    "source = source_bytes.decode('utf-8')\n",
    "\n",
    "count=0\n",
    "count_com=0\n",
    "word=\"\"\n",
    "for i in range(len(source)):\n",
    "    if(count==0 and count_com==0):\n",
    "       word+=source[i]\n",
    "    if(source[i]=='>'):\n",
    "        count-=1\n",
    "        if(source[i-1]=='-' and source[i-2]=='-'):\n",
    "            count_com-=1\n",
    "            count+=1\n",
    "    if(count_com!=0):\n",
    "        if(source[i]=='>'):\n",
    "            count+=1\n",
    "        continue\n",
    "    if(source[i]=='<'):\n",
    "        count+=1\n",
    "        if(source[i+1]=='!' and source[i+2]=='-' and source[i+3]=='-'):\n",
    "            count_com+=1\n",
    "            count-=1\n",
    "word=word.replace('<', '')\n",
    "word=word.split()\n",
    "print(len(word))"
   ]
  },
  {
   "cell_type": "markdown",
   "metadata": {
    "collapsed": true
   },
   "source": [
    "받아온 HTML코드를 문자열로 받아와서 <이 나올 때마다 count 변수를 +1해주고 >이 나올 때마다 -1해줍니다. count가 0일 때의 문자들만\n",
    "새로운 문자열 word에 저장합니다. word에 저장을 할 때 <이 나오기 전에 저장을 하기 때문에 저장할 때 <가 같이 나올 수 있기 때문에 <을 공백으로 대체해서 다시 저장해줍니다. 이를 단어로 나우어 리스트로 만들고 이 리스트의 길이를 출력합니다.\n",
    "\n",
    "\n",
    "처음에는 이대로 만들면 가능할거라 생각했지만 주석안에 <이나 >가 짝없이 나오면 오류가 발생했습니다. 이를 고려해서 ```<!--```이 나오면 count_com을 +1해주고 ```-->```이 나오면 count_com을 -1해주어 count와 count_com이 둘다 0일 경우만 저장하니 생각한대로 저장되었습니다."
   ]
  },
  {
   "cell_type": "markdown",
   "metadata": {
    "collapsed": true
   },
   "source": [
    "# 마무리\n",
    "이번 과제는 논리 연산자와 리스트의 활용을 이용한 과제들이었던 것같습니다. 2번 과제를 하면서 처음에는 어떤식으로 만들지 고민을 많이하다가 \n",
    "구글링을 하다보니 join이라는 함수가 있다는 것을 알고 사용하여 쉽게 만들 수 있었습니다. 3번 과제는 어렵지는 않았지만 처음에 for문의 길이를 range(len(x))로 두고 바로 remove를 했었는데 이렇게 하니 for문 안에서 하는 x의 길이는 remove로 인해 줄어들었지만 for문의 조건인 len(x)는 변하지 않아 리스트의 길이를 초과해서 for문이 돌다보니 오류가 나와서 위와 같은 형식으로 바꿨는데 for문 안에서 조건이 변하면 밖에서도 바뀔 수 있게 만드는 방법은 구글링으로 찾을 수 없었습니다. 혹시 이런 방법이 있는지 궁금합니다.\n",
    "마지막으로 과제 4번은 리스트 자체로 만들어서 풀어서 split과 join을 이용하려 했지만 결국 생각이 않나서 문자열 그대로 구분해서 나중에 리스트 형식으로 만들었는데 split과 join을 이용해서 하는 방법이 없는지 다른 학우들의 코드들을 한번 보고싶습니다. \n",
    "좋은 강의와 문제들 감사합니다. 수고하십시오!"
   ]
  },
  {
   "cell_type": "code",
   "execution_count": null,
   "metadata": {
    "collapsed": true
   },
   "outputs": [],
   "source": []
  }
 ],
 "metadata": {
  "kernelspec": {
   "display_name": "Python 3",
   "language": "python",
   "name": "python3"
  },
  "language_info": {
   "codemirror_mode": {
    "name": "ipython",
    "version": 3
   },
   "file_extension": ".py",
   "mimetype": "text/x-python",
   "name": "python",
   "nbconvert_exporter": "python",
   "pygments_lexer": "ipython3",
   "version": "3.6.1"
  }
 },
 "nbformat": 4,
 "nbformat_minor": 2
}
