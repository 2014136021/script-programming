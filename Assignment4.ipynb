{
 "cells": [
  {
   "cell_type": "markdown",
   "metadata": {},
   "source": [
    "# 문제 1\n",
    "- 파일 s.txt 내의 다음 내용과 함께 아래 문제의 코드를 제시하시오.\n",
    "\n",
    ">pig ham<br >\n",
    ">cat dog<br >\n",
    ">ham bird<br >\n",
    ">dog pig<br >"
   ]
  },
  {
   "cell_type": "code",
   "execution_count": 15,
   "metadata": {
    "collapsed": true
   },
   "outputs": [],
   "source": [
    "s=\"pig ham\\ncat dog\\nham bird\\ndog pig\"\n",
    "f = open('s.txt', 'w')\n",
    "f.write(s) \n",
    "f.close()"
   ]
  },
  {
   "cell_type": "markdown",
   "metadata": {},
   "source": [
    "파일을 쓰기전용으로 열어서 문자열을 저장합니다."
   ]
  },
  {
   "cell_type": "markdown",
   "metadata": {},
   "source": [
    "    - 1) 파일 s.txt을 읽어서 각 라인에 있는 첫 번째 단어(문자열) 자체들을 기준으로 라인별 정렬후 파일 s1.txt에 그 결과를 기록하는 코드를 작성하시오. 즉, 프로그램 수행 후 s1.txt에 있는 파일 내용은 다음과 같다.\n",
    "    \n",
    ">cat dog<br>\n",
    ">dog pig<br>\n",
    ">ham bird<br>\n",
    ">pig ham<br>"
   ]
  },
  {
   "cell_type": "code",
   "execution_count": 18,
   "metadata": {
    "collapsed": true
   },
   "outputs": [],
   "source": [
    "f=open('s.txt', 'r')\n",
    "s=f.read()\n",
    "s=s.split('\\n')\n",
    "s.sort()\n",
    "s='\\n'.join(s)\n",
    "f1=open('s1.txt', 'w')\n",
    "f1.write(s)\n",
    "f.close()\n",
    "f1.close()"
   ]
  },
  {
   "cell_type": "markdown",
   "metadata": {},
   "source": [
    "파일에서 가져온 문자열을 줄바꿈을 기준으로 가져와서 이를 저장합니다."
   ]
  },
  {
   "cell_type": "markdown",
   "metadata": {},
   "source": [
    "      - 2) 파일 s.txt을 읽어서 각 라인에 있는 두 번째 단어(문자열) 자체들을 기준으로 라인별 정렬후 파일 s2.txt에 그 결과를 기록하는 코드를 작성하시오. 즉, 프로그램 수행 후 s2.txt에 있는 파일 내용은 다음과 같다.\n",
    "\n",
    ">ham bird<br>\n",
    "cat dog<br>\n",
    "pig ham<br>\n",
    "dog pig<br>"
   ]
  },
  {
   "cell_type": "code",
   "execution_count": 22,
   "metadata": {
    "collapsed": true
   },
   "outputs": [],
   "source": [
    "f=open('s.txt', 'r')\n",
    "s=f.read()\n",
    "s=s.split('\\n')\n",
    "def cmp_by_each_element(a):\n",
    "    return a[4]\n",
    "s=sorted(s, key=cmp_by_each_element)\n",
    "s='\\n'.join(s)\n",
    "f2=open('s2.txt', 'w')\n",
    "f2.write(s)\n",
    "f.close()\n",
    "f2.close()"
   ]
  },
  {
   "cell_type": "markdown",
   "metadata": {},
   "source": [
    "파일에서 문자열을 가져와서 이를 줄바꿈을 기준으로 리스트에 저장하고 이 리스트의 인자의 5번째 문자를 기준으로 정렬하고 이를 문자열로 줄바꿈을 기준으로 재배열해서 새로운 파일에 저장합니다."
   ]
  },
  {
   "cell_type": "markdown",
   "metadata": {},
   "source": [
    "    - 3) 파일 s.txt을 읽어서 각 라인들에 있는 모든 단어들을 순차적으로 다시 나열하되 각 라인에 세 개의 단어들이 오도록 하여 s3.txt에 기록하는 코드를 작성하시오. 즉, 프로그램 수행 후 s3.txt에 있는 파일 내용은 다음과 같다.\n",
    "    \n",
    ">pig ham cat<br>\n",
    "dog ham bird<br>\n",
    "dog pig<br>"
   ]
  },
  {
   "cell_type": "code",
   "execution_count": 1,
   "metadata": {
    "collapsed": true
   },
   "outputs": [],
   "source": [
    "f=open('s.txt', 'r')\n",
    "s=f.read()\n",
    "s=s.split()\n",
    "f3=open('s3.txt', 'w')\n",
    "for i in range(len(s)):\n",
    "    f3.write(s[i]+' ')\n",
    "    if((i+1)%3==0):\n",
    "        f3.write('\\n')\n",
    "f.close()\n",
    "f3.close()"
   ]
  },
  {
   "cell_type": "markdown",
   "metadata": {},
   "source": [
    "파일에서 문자열을 받아와서 이를 공백을 기준으로 나누어 리스트에 저장하고 이를 3을 기준으로 줄바꿈을 해서 파일에 저장합니다."
   ]
  },
  {
   "cell_type": "markdown",
   "metadata": {
    "collapsed": true
   },
   "source": [
    "# 문제2\n",
    "다음과 같은 조건들을 참고하여 회원 가입 및 로그인 프로그램을 작성하시오.\n",
    "\n",
    "- 1) 프로그램 시작 후 다음과 같은 메시지가 출력되어 1, 2, 3 중 하나의 값을 입력 받도록 한다.\n",
    ">Welcome to Our Service<br><br>\n",
    ">1.Sign Up<br>\n",
    ">2.Sign In<br>\n",
    ">3.Quit<br>\n",
    "\n",
    "- 2) 1을 선택하면 ID, Password, Name, School의 4가지 정보를 입력받아 파일에 저장하는 프로그램을 작성한다.\n",
    "    - 2-1) 입력된 내용은 access.txt 라는 이름의 텍스트 파일 내에 저장된다.\n",
    "    - 2-2) access.txt 파일의 각 라인에는 가입된 회원 각각의 정보가 \"[id]: [password], [name], [school]\" 형태로 저장된다.\n",
    "    - 2-3) 즉, 가입 회원이 10명이면 access.txt 파일 내에 라인 수도 정확히 10개이다.\n",
    "    - 2-4) 암호화 방식은 sha 모듈을 활용한다. sha 모듈 활용 방법은 본 문제의 마지막에 제시된 sha 활용 예를 참고한다.\n",
    "즉, access.txt 파일 내에 password 정보는 암호화 되어 저장되어야 한다.\n",
    "    - 2-5) 회원 정보를 입력 받을 때 id를 입력 받은 직후 access.txt를 확인하여 이미 존재하는 id가 입력되었다면 다음 메시지를 출력하고 id 정보를 다시 입력받는다.\n",
    "        - Sorry, the entered ID is already used.\n",
    "- 3) 2를 선택하면 ID, Password의 2가지 정보를 입력받는 프로그램을 작성한다.\n",
    "    - 3-1) 입력된 ID 정보가 access.txt에 존재하지 않으면 다음과 같은 메시지를 출력하고 다시 입력받는다.\n",
    "        - Sorry, you are not a registered member.\n",
    "    - 3-2) 입력된 ID가 올바르게 존재하지만 Password 정보가 access.txt 파일에 있는 정보와 불일치하면 다음과 같은 메시지를 출력하고 Password를 다시 입력받는다.\n",
    "        - Sorry, the entered password is not correct.\n",
    "이 때에도 사용자가 입력한 Password 정보와 함께 sha 모듈이 활용되어야 한다.\n",
    "    - 3-3) 입력된 ID와 Password가 모두 올바르면 다음과 같은 메시지를 출력한다.\n",
    "Hello [name]!\n",
    "위 [name]에는 access.txt에 기록되어 있는 name 정보를 출력한다.\n",
    "- 4) 3을 선택하면 프로그램이 끝난다.\n",
    "    - [참고] sha 모듈 활용 예"
   ]
  },
  {
   "cell_type": "code",
   "execution_count": 8,
   "metadata": {},
   "outputs": [
    {
     "name": "stdout",
     "output_type": "stream",
     "text": [
      "<ripemd160 HASH object @ 0x000001E6A14761C0>\n"
     ]
    }
   ],
   "source": [
    "import hashlib\n",
    "hasher = hashlib.sha1()\n",
    "password_plain = 'ripemd160'\n",
    "password_encrypted = hashlib.new(password_plain)\n",
    "password_encrypted.hexdigest()\n",
    "print(password_encrypted)"
   ]
  },
  {
   "cell_type": "code",
   "execution_count": 9,
   "metadata": {
    "scrolled": true
   },
   "outputs": [
    {
     "name": "stdout",
     "output_type": "stream",
     "text": [
      "Welcome To Our Service\n",
      "1.Sign Up\n",
      "2.Sign In\n",
      "3.Quit\n",
      "1\n",
      "awe\n",
      "qwe\n"
     ]
    },
    {
     "ename": "TypeError",
     "evalue": "name must be a string",
     "output_type": "error",
     "traceback": [
      "\u001b[1;31m---------------------------------------------------------------------------\u001b[0m",
      "\u001b[1;31mTypeError\u001b[0m                                 Traceback (most recent call last)",
      "\u001b[1;32m<ipython-input-9-ab7e43f114b0>\u001b[0m in \u001b[0;36m<module>\u001b[1;34m()\u001b[0m\n\u001b[0;32m     18\u001b[0m         \u001b[0mpassword\u001b[0m\u001b[1;33m=\u001b[0m\u001b[0minput\u001b[0m\u001b[1;33m(\u001b[0m\u001b[1;33m)\u001b[0m\u001b[1;33m\u001b[0m\u001b[0m\n\u001b[0;32m     19\u001b[0m         \u001b[0mhasher\u001b[0m \u001b[1;33m=\u001b[0m \u001b[0mhashlib\u001b[0m\u001b[1;33m.\u001b[0m\u001b[0msha1\u001b[0m\u001b[1;33m(\u001b[0m\u001b[1;33m)\u001b[0m\u001b[1;33m\u001b[0m\u001b[0m\n\u001b[1;32m---> 20\u001b[1;33m         \u001b[0mpassword_encrypted\u001b[0m \u001b[1;33m=\u001b[0m \u001b[0mhashlib\u001b[0m\u001b[1;33m.\u001b[0m\u001b[0mnew\u001b[0m\u001b[1;33m(\u001b[0m\u001b[0mhasher\u001b[0m\u001b[1;33m,\u001b[0m\u001b[0mpassword\u001b[0m\u001b[1;33m)\u001b[0m\u001b[1;33m\u001b[0m\u001b[0m\n\u001b[0m\u001b[0;32m     21\u001b[0m         \u001b[0mpassword_encrypted\u001b[0m\u001b[1;33m.\u001b[0m\u001b[0mhexdigest\u001b[0m\u001b[1;33m(\u001b[0m\u001b[1;33m)\u001b[0m\u001b[1;33m\u001b[0m\u001b[0m\n\u001b[0;32m     22\u001b[0m         \u001b[0mname\u001b[0m\u001b[1;33m=\u001b[0m\u001b[0minput\u001b[0m\u001b[1;33m(\u001b[0m\u001b[1;33m)\u001b[0m\u001b[1;33m\u001b[0m\u001b[0m\n",
      "\u001b[1;32mC:\\Users\\kyh97\\Anaconda3\\lib\\hashlib.py\u001b[0m in \u001b[0;36m__hash_new\u001b[1;34m(name, data, **kwargs)\u001b[0m\n\u001b[0;32m    147\u001b[0m         \u001b[1;32mreturn\u001b[0m \u001b[0m__get_builtin_constructor\u001b[0m\u001b[1;33m(\u001b[0m\u001b[0mname\u001b[0m\u001b[1;33m)\u001b[0m\u001b[1;33m(\u001b[0m\u001b[0mdata\u001b[0m\u001b[1;33m,\u001b[0m \u001b[1;33m**\u001b[0m\u001b[0mkwargs\u001b[0m\u001b[1;33m)\u001b[0m\u001b[1;33m\u001b[0m\u001b[0m\n\u001b[0;32m    148\u001b[0m     \u001b[1;32mtry\u001b[0m\u001b[1;33m:\u001b[0m\u001b[1;33m\u001b[0m\u001b[0m\n\u001b[1;32m--> 149\u001b[1;33m         \u001b[1;32mreturn\u001b[0m \u001b[0m_hashlib\u001b[0m\u001b[1;33m.\u001b[0m\u001b[0mnew\u001b[0m\u001b[1;33m(\u001b[0m\u001b[0mname\u001b[0m\u001b[1;33m,\u001b[0m \u001b[0mdata\u001b[0m\u001b[1;33m)\u001b[0m\u001b[1;33m\u001b[0m\u001b[0m\n\u001b[0m\u001b[0;32m    150\u001b[0m     \u001b[1;32mexcept\u001b[0m \u001b[0mValueError\u001b[0m\u001b[1;33m:\u001b[0m\u001b[1;33m\u001b[0m\u001b[0m\n\u001b[0;32m    151\u001b[0m         \u001b[1;31m# If the _hashlib module (OpenSSL) doesn't support the named\u001b[0m\u001b[1;33m\u001b[0m\u001b[1;33m\u001b[0m\u001b[0m\n",
      "\u001b[1;31mTypeError\u001b[0m: name must be a string"
     ]
    }
   ],
   "source": [
    "import hashlib\n",
    "while(1):\n",
    "    print(\"Welcome To Our Service\")\n",
    "    print(\"1.Sign Up\")\n",
    "    print(\"2.Sign In\")\n",
    "    print(\"3.Quit\")\n",
    "    f=open(\"access.txt\", 'a')\n",
    "    f.close()\n",
    "    num=input()\n",
    "    if(num=='1'):\n",
    "        id=input()\n",
    "        f=open(\"access.txt\", 'r')\n",
    "        s=f.readline()\n",
    "        s=s.split()\n",
    "        for i in s:\n",
    "            if(id==s):\n",
    "                print(\"Sorry, the entered ID is already used.\")\n",
    "        password=input()\n",
    "        hasher = hashlib.sha1()\n",
    "        password_encrypted = hashlib.new(hasher,password)\n",
    "        password_encrypted.hexdigest()\n",
    "        name=input()\n",
    "        school=input()\n",
    "        f.close()\n",
    "        f.open(\"acess.txt\", 'a')\n",
    "        f.write(id+\":\"+password_encrypted+\",\"+name+\",\"+school)\n",
    "        f.close()\n",
    "    \n",
    "    if(num=='2'):\n",
    "        "
   ]
  },
  {
   "cell_type": "markdown",
   "metadata": {},
   "source": [
    "파일을 생성해주고 이 파일에 id,password,name,school을 저장하여 파일을 닫는다. 또한 password는 암호화를 해준다."
   ]
  },
  {
   "cell_type": "markdown",
   "metadata": {
    "collapsed": true
   },
   "source": [
    "# 문제 3\n",
    "range() 함수와 유사한 frange() 함수를 다음 조건을 참고하여 만드시오.\n",
    "\n",
    "- 1) frange()의 인자 구성은 다음과 같이 range와 동일하지만 각 인수들은 음수를 받지 않는다고 가정한다.\n",
    ">range(stop)<br>\n",
    ">range(start, stop[, step])<br>\n",
    "- 2) frange() 함수의 인자에 대한 기본 시작(start) 값은 0.0이고, 기본 단계(step) 값은 0.1이다.\n",
    "- 3) frange 사용 예\n",
    "    - 3-1) frange(0.5)\n",
    "        - [0.0, 0.1, 0.2, 0.3, 0.4]\n",
    "    - 3-2) frange(1.0, 2.0)\n",
    "        - [1.0, 1.1, 1.2, 1.3, 1.4, 1.5, 1.6, 1.7, 1.8, 1.9]\n",
    "    - 3-3) frange(2.2, 4.0, 0.5)\n",
    "        - [2.2, 2.7, 3.2, 3.7]"
   ]
  },
  {
   "cell_type": "code",
   "execution_count": 27,
   "metadata": {},
   "outputs": [
    {
     "name": "stdout",
     "output_type": "stream",
     "text": [
      "[0.0, 0.1, 0.2, 0.3, 0.4]\n",
      "[2.2, 2.7, 3.2, 3.7]\n",
      "[1.0, 1.1, 1.2, 1.3, 1.4]\n"
     ]
    }
   ],
   "source": [
    "def frange(*args):\n",
    "    if(len(args)==1):\n",
    "        a=list(range(int(args[0]*10)))\n",
    "        for i in range(len(a)):\n",
    "            a[i]=a[i]/10\n",
    "        return a\n",
    "    elif(len(args)==2):\n",
    "        a=list(range(int(args[0]*10), int(args[1]*10)))\n",
    "        for i in range(len(a)):\n",
    "            a[i]=a[i]/10\n",
    "        return a\n",
    "    a=list(range(int(args[0]*10), int(args[1]*10), int(args[2]*10)))\n",
    "    for i in range(len(a)):\n",
    "        a[i]=a[i]/10\n",
    "    return a\n",
    "\n",
    "print(frange(0.5))\n",
    "print(frange(2.2,4.0,0.5))\n",
    "print(frange(1.0,1.5))\n",
    "        "
   ]
  },
  {
   "cell_type": "markdown",
   "metadata": {},
   "source": [
    "함수의 인자를 \\*arg로 받아서 동적으로 받고 이를 range함수에 인자를 10을 곱하고 int 형으로 변환하여 만들어준다. "
   ]
  },
  {
   "cell_type": "markdown",
   "metadata": {
    "collapsed": true
   },
   "source": [
    "# 문제4\n",
    "가변인수를 받는 함수 sum()을 다음과 같은 조건을 참고하여 구현하시오\n",
    "\n",
    "- sum() 사용 예\n",
    "    - sum()\n",
    "        - 0\n",
    "    - sum(1, 2)\n",
    "        - 3\n",
    "    - sum(1, 2, 3, 4, 5)\n",
    "        - 15\n",
    "    - sum(1, 5, 7, 2, -10)\n",
    "        - 5"
   ]
  },
  {
   "cell_type": "code",
   "execution_count": 29,
   "metadata": {},
   "outputs": [
    {
     "name": "stdout",
     "output_type": "stream",
     "text": [
      "0\n",
      "6\n",
      "15\n"
     ]
    }
   ],
   "source": [
    "def sum(*args):\n",
    "    a=0\n",
    "    for i in range(len(args)):\n",
    "       a=a+args[i]\n",
    "    return a\n",
    "\n",
    "print(sum())\n",
    "print(sum(1,2,3))\n",
    "print(sum(1,2,3,4,5))"
   ]
  },
  {
   "cell_type": "markdown",
   "metadata": {},
   "source": [
    "함수의 인자를 \\*arg로 받고 이를 arg의 길이만큼 반복하여 인자들을 더합니다."
   ]
  },
  {
   "cell_type": "markdown",
   "metadata": {
    "collapsed": true
   },
   "source": [
    "# 문제5\n",
    "여러 단어로 이루어진 문자열을 입력받아 각 단어의 첫글자로 이루어진 단어를 대문자로 출력하는 myinitial() 함수를 다음 조건을 참고하여 작성하시오.\n",
    "\n",
    "- 1) 다음에 제시되는 함수들을 모두 이용해야 한다.\n",
    "    - split\n",
    "    - map\n",
    "    - join\n",
    "- 2) myinitial() 함수 사용 예\n",
    "    - myinitial(\"as soon as possible\")\n",
    "        - ASAP"
   ]
  },
  {
   "cell_type": "code",
   "execution_count": 3,
   "metadata": {},
   "outputs": [
    {
     "name": "stdout",
     "output_type": "stream",
     "text": [
      "ASAP\n"
     ]
    }
   ],
   "source": [
    "def myinitial(b):\n",
    "    b=b.split()\n",
    "    init=list(map(lambda x:x[0].upper(), b))\n",
    "    a=''.join(init)\n",
    "    return a\n",
    "\n",
    "print(myinitial(\"as soon as possible\"))"
   ]
  },
  {
   "cell_type": "markdown",
   "metadata": {},
   "source": [
    "문자열을 공백을 기준으로 나누고 map함수를 이용하여 각 리스트의 문자열의 첫번째 값을 대문자로 바꿔 저장하고 이를 join으로 문자열로 바꾸어 반환합니다."
   ]
  },
  {
   "cell_type": "markdown",
   "metadata": {},
   "source": [
    "# 문제6\n",
    "음이 아닌 정수 n를 입력받으면 n! (factorial)을 계산하는 myfact() 함수를 재귀적 함수로 구현하시오.\n",
    "\n",
    "- [옵션] 참을 수 있는 정도 만큼의 수행시간을 직접 기다려보면서 n을 늘려보도록 합시다."
   ]
  },
  {
   "cell_type": "code",
   "execution_count": 47,
   "metadata": {},
   "outputs": [
    {
     "name": "stdout",
     "output_type": "stream",
     "text": [
      "120\n"
     ]
    }
   ],
   "source": [
    "def myfact(num):\n",
    "    if(num==1):\n",
    "        return 1\n",
    "    else:\n",
    "        return num*myfact(num-1)\n",
    "\n",
    "print(myfact(5))"
   ]
  },
  {
   "cell_type": "markdown",
   "metadata": {},
   "source": [
    "인자가 1일 경우 순환을 멈추고 나머지 경우 n*myfact(n-1)을 하여 순환하도록합니다."
   ]
  },
  {
   "cell_type": "markdown",
   "metadata": {},
   "source": [
    "# 문제7\n",
    "(서술형) import string 과 from string import * 의 차이점을 설명하시오.\n",
    "\n"
   ]
  },
  {
   "cell_type": "markdown",
   "metadata": {},
   "source": [
    "import string은 string모듈의 함수, 변수들을 모듈의 멤버로 사용할 수 있고 from string import\\*는 모듈의 함수, 변수들 중에 \\_로 시작하는 이름들을 제외한 이름들을 직접 불러들여서 사용할 수 있다. 하지만 이름이 같은 함수나 변수가 있다면 대체될 수 있다."
   ]
  },
  {
   "cell_type": "markdown",
   "metadata": {},
   "source": [
    "# 문제8\n",
    "이전 Assignment 3의 마지막 문제는 웹 URL로 지정된 웹페이지를 문자열로 가져와 모든 HTML 태그 및 CSS와 Javascript를 제외한 순수 텍스트를 얻어내고 그 안에 존재하는 단어를 추출하여 각 단어들에 대해 출현빈도를 사전형태({'world': 2, 'hello': 1, 'python': 1})로 저장하여 출력하는 것이었다. 이번에는 Assignment 3를 확장하여 다음과 같은 조건을 만족하도록 구현하시오.\n",
    "\n",
    "- 1) 다음 사이트에서 제시되는 영어 불용어 (Stop words)를 참고하여 이전 숙제에서 구성했던 단어 사전에서 영어 불용어들을 모두 제거하는 코드를 추가하시오.\n",
    "\n",
    "    - http://www.lextek.com/manuals/onix/stopwords1.html\n",
    "- 2) 각 URL로 지정된 웹페이지의 HTML 소스를 파일로 저장하시오.\n",
    "\n",
    "    - URL이 http://URL 이라면 파일명은 URL.html 이다.\n",
    "    - 예: URL이 http://www.cnn.com 이라면 파일명은 www.cnn.com.html 이다.\n",
    "- 3) 단어의 출현빈도가 담긴 사전 객체를 위 HTML 소스 파일과 동일한 폴더에 파일로 저장하시오.\n",
    "    - 파일입출력 (E-learning 13주차) 마지막에 학습한 pickle 모듈을 활용하시오.\n",
    "    - URL이 http://URL 이라면 사전 객체를 담고 있는 파일명은 URL.words.frequency 이다.\n",
    "    - 예: URL이 http://www.cnn.com 이라면 파일명은 www.cnn.com.words.frequency 이다.\n",
    "- 4) 최소 5개 이상의 영어 웹 사이트 각각에 대한 HTML 소스 파일과 단어 출현빈도 파일을 저장하시오.\n",
    "    - 즉, 총 10개의 파일을 동일한 폴더에 생성하시오.\n",
    "    - [주의] 영어 웹사이트 URL로만 5개 이상\n",
    "        - 가능하면 주제가 서로 다른 웹 사이트들로 선정\n",
    "- 5) 위 문제에서 저장한 모든 words.frequency 파일들을 객체로 다시 로드하여 본인이 저장하여 분석한 사이트들 각각에 대해서 가장 많이 출현한 단어 3개씩를 뽑아 제시하시오.\n",
    "    - 반드시 pickle 모듈로 저장한 5개 이상의 words.frequency를 다시 5개 이상의 사전 객체로 로드 하는 코드가 추가되어야 함\n",
    "- 6) 간단한 검색엔진 코딩 (Like Google!!!)\n",
    "    - 사용자에게 임의의 단어 1개를 입력받으시오.\n",
    "    - 입력 받은 단어와 유사도(Similarity)가 높은 웹 사이트 기준으로 위 4)에서 미리 지정해 놓은 5개 이상의 웹 사이트 URL들을 일렬로 나열하여 출력하시오.\n",
    "        - 단어와 웹 사이트 간의 유사도는 본인이 스스로 정하시오.\n",
    "            - 유사도를 정하는 최소한의 기준은 단어 출현 빈도를 기반으로 해야 하며, 이외의 본인이 생각하는 방안이 있으면 함께 사용해도 됨.\n",
    "            - 반드시 코딩 내에 similarity 라는 사전 자료 구조가 있어야 함 (즉, 다음과 유사한 코드가 있어야 함).\n",
    "                - similarity = {}\n",
    "                - ...\n",
    "                - similarity[url1] = x1\n",
    "                - ...\n",
    "                - similarity[url2] = x2\n",
    "                - ...\n",
    "            - 위 코드에서 x1 과 x2는 입력단어와 해당 URL의 웹 사이트 간의 similarity를 나타내는 수치값\n",
    "        - 유사도가 높은 웹 사이트가 상위에 출력되어야 함 (즉, 유사도 기준 내림 차순)\n",
    "            - 유사도가 동일한 웹 사이트들에 대해서는 임의 배치함.\n",
    "- 7) [주의] 필수사항\n",
    "    - 위에서 만든 검색엔진 코딩은 매우 간단한 것이라 부족한 점이 많이 존재한다.\n",
    "    - 본인이 생각하기에 상업적인 완성도 높은 검색 로봇/엔진이 되려면 어떤 기능들이 추가적으로 구현되어야 할지 최소 3가지 이상 제시하시오."
   ]
  },
  {
   "cell_type": "code",
   "execution_count": 2,
   "metadata": {
    "collapsed": true
   },
   "outputs": [],
   "source": [
    "stop_word=\"\"\"a\n",
    "about\n",
    "above\n",
    "across\n",
    "after\n",
    "again\n",
    "against\n",
    "all\n",
    "almost\n",
    "alone\n",
    "along\n",
    "already\n",
    "also\n",
    "although\n",
    "always\n",
    "among\n",
    "an\n",
    "and\n",
    "another\n",
    "any\n",
    "anybody\n",
    "anyone\n",
    "anything\n",
    "anywhere\n",
    "are\n",
    "area\n",
    "areas\n",
    "around\n",
    "as\n",
    "ask\n",
    "asked\n",
    "asking\n",
    "asks\n",
    "at\n",
    "away\n",
    "b\n",
    "back\n",
    "backed\n",
    "backing\n",
    "backs\n",
    "be\n",
    "became\n",
    "because\n",
    "become\n",
    "becomes\n",
    "been\n",
    "before\n",
    "began\n",
    "behind\n",
    "being\n",
    "beings\n",
    "best\n",
    "better\n",
    "between\n",
    "big\n",
    "both\n",
    "but\n",
    "by\n",
    "c\n",
    "came\n",
    "can\n",
    "cannot\n",
    "case\n",
    "cases\n",
    "certain\n",
    "certainly\n",
    "clear\n",
    "clearly\n",
    "come\n",
    "could\n",
    "d\n",
    "did\n",
    "differ\n",
    "different\n",
    "differently\n",
    "do\n",
    "does\n",
    "done\n",
    "down\n",
    "down\n",
    "downed\n",
    "downing\n",
    "downs\n",
    "during\n",
    "e\n",
    "each\n",
    "early\n",
    "either\n",
    "end\n",
    "ended\n",
    "ending\n",
    "ends\n",
    "enough\n",
    "even\n",
    "evenly\n",
    "ever\n",
    "every\n",
    "everybody\n",
    "everyone\n",
    "everything\n",
    "everywhere\n",
    "f\n",
    "face\n",
    "faces\n",
    "fact\n",
    "facts\n",
    "far\n",
    "felt\n",
    "few\n",
    "find\n",
    "finds\n",
    "first\n",
    "for\n",
    "four\n",
    "from\n",
    "full\n",
    "fully\n",
    "further\n",
    "furthered\n",
    "furthering\n",
    "furthers\n",
    "g\n",
    "gave\n",
    "general\n",
    "generally\n",
    "get\n",
    "gets\n",
    "give\n",
    "given\n",
    "gives\n",
    "go\n",
    "going\n",
    "good\n",
    "goods\n",
    "got\n",
    "great\n",
    "greater\n",
    "greatest\n",
    "group\n",
    "grouped\n",
    "grouping\n",
    "groups\n",
    "h\n",
    "had\n",
    "has\n",
    "have\n",
    "having\n",
    "he\n",
    "her\n",
    "here\n",
    "herself\n",
    "high\n",
    "high\n",
    "high\n",
    "higher\n",
    "highest\n",
    "him\n",
    "himself\n",
    "his\n",
    "how\n",
    "however\n",
    "i\n",
    "if\n",
    "important\n",
    "in\n",
    "interest\n",
    "interested\n",
    "interesting\n",
    "interests\n",
    "into\n",
    "is\n",
    "it\n",
    "its\n",
    "itself\n",
    "j\n",
    "just\n",
    "k\n",
    "keep\n",
    "keeps\n",
    "kind\n",
    "knew\n",
    "know\n",
    "known\n",
    "knows\n",
    "l\n",
    "large\n",
    "largely\n",
    "last\n",
    "later\n",
    "latest\n",
    "least\n",
    "less\n",
    "let\n",
    "lets\n",
    "like\n",
    "likely\n",
    "long\n",
    "longer\n",
    "longest\n",
    "m\n",
    "made\n",
    "make\n",
    "making\n",
    "man\n",
    "many\n",
    "may\n",
    "me\n",
    "member\n",
    "members\n",
    "men\n",
    "might\n",
    "more\n",
    "most\n",
    "mostly\n",
    "mr\n",
    "mrs\n",
    "much\n",
    "must\n",
    "my\n",
    "myself\n",
    "n\n",
    "necessary\n",
    "need\n",
    "needed\n",
    "needing\n",
    "needs\n",
    "never\n",
    "new\n",
    "new\n",
    "newer\n",
    "newest\n",
    "next\n",
    "no\n",
    "nobody\n",
    "non\n",
    "noone\n",
    "not\n",
    "nothing\n",
    "now\n",
    "nowhere\n",
    "number\n",
    "numbers\n",
    "o\n",
    "of\n",
    "off\n",
    "often\n",
    "old\n",
    "older\n",
    "oldest\n",
    "on\n",
    "once\n",
    "one\n",
    "only\n",
    "open\n",
    "opened\n",
    "opening\n",
    "opens\n",
    "or\n",
    "order\n",
    "ordered\n",
    "ordering\n",
    "orders\n",
    "other\n",
    "others\n",
    "our\n",
    "out\n",
    "over\n",
    "p\n",
    "part\n",
    "parted\n",
    "parting\n",
    "parts\n",
    "per\n",
    "perhaps\n",
    "place\n",
    "places\n",
    "point\n",
    "pointed\n",
    "pointing\n",
    "points\n",
    "possible\n",
    "present\n",
    "presented\n",
    "presenting\n",
    "presents\n",
    "problem\n",
    "problems\n",
    "put\n",
    "puts\n",
    "q\n",
    "quite\n",
    "r\n",
    "rather\n",
    "really\n",
    "right\n",
    "right\n",
    "room\n",
    "rooms\n",
    "s\n",
    "said\n",
    "same\n",
    "saw\n",
    "say\n",
    "says\n",
    "second\n",
    "seconds\n",
    "see\n",
    "seem\n",
    "seemed\n",
    "seeming\n",
    "seems\n",
    "sees\n",
    "several\n",
    "shall\n",
    "she\n",
    "should\n",
    "show\n",
    "showed\n",
    "showing\n",
    "shows\n",
    "side\n",
    "sides\n",
    "since\n",
    "small\n",
    "smaller\n",
    "smallest\n",
    "so\n",
    "some\n",
    "somebody\n",
    "someone\n",
    "something\n",
    "somewhere\n",
    "state\n",
    "states\n",
    "still\n",
    "still\n",
    "such\n",
    "sure\n",
    "t\n",
    "take\n",
    "taken\n",
    "than\n",
    "that\n",
    "the\n",
    "their\n",
    "them\n",
    "then\n",
    "there\n",
    "therefore\n",
    "these\n",
    "they\n",
    "thing\n",
    "things\n",
    "think\n",
    "thinks\n",
    "this\n",
    "those\n",
    "though\n",
    "thought\n",
    "thoughts\n",
    "three\n",
    "through\n",
    "thus\n",
    "to\n",
    "today\n",
    "together\n",
    "too\n",
    "took\n",
    "toward\n",
    "turn\n",
    "turned\n",
    "turning\n",
    "turns\n",
    "two\n",
    "u\n",
    "under\n",
    "until\n",
    "up\n",
    "upon\n",
    "us\n",
    "use\n",
    "used\n",
    "uses\n",
    "v\n",
    "very\n",
    "w\n",
    "want\n",
    "wanted\n",
    "wanting\n",
    "wants\n",
    "was\n",
    "way\n",
    "ways\n",
    "we\n",
    "well\n",
    "wells\n",
    "went\n",
    "were\n",
    "what\n",
    "when\n",
    "where\n",
    "whether\n",
    "which\n",
    "while\n",
    "who\n",
    "whole\n",
    "whose\n",
    "why\n",
    "will\n",
    "with\n",
    "within\n",
    "without\n",
    "work\n",
    "worked\n",
    "working\n",
    "works\n",
    "would\n",
    "x\n",
    "y\n",
    "year\n",
    "years\n",
    "yet\n",
    "you\n",
    "young\n",
    "younger\n",
    "youngest\n",
    "your\n",
    "yours\n",
    "z\"\"\"\n",
    "stop_word=stop_word.split(\"\\n\")"
   ]
  },
  {
   "cell_type": "code",
   "execution_count": 19,
   "metadata": {},
   "outputs": [
    {
     "ename": "UnicodeDecodeError",
     "evalue": "'utf-8' codec can't decode byte 0xb1 in position 4005: invalid start byte",
     "output_type": "error",
     "traceback": [
      "\u001b[1;31m---------------------------------------------------------------------------\u001b[0m",
      "\u001b[1;31mUnicodeDecodeError\u001b[0m                        Traceback (most recent call last)",
      "\u001b[1;32m<ipython-input-19-49f7576d99d8>\u001b[0m in \u001b[0;36m<module>\u001b[1;34m()\u001b[0m\n\u001b[0;32m     59\u001b[0m     \u001b[0mf\u001b[0m\u001b[1;33m.\u001b[0m\u001b[0mclose\u001b[0m\u001b[1;33m(\u001b[0m\u001b[1;33m)\u001b[0m\u001b[1;33m\u001b[0m\u001b[0m\n\u001b[0;32m     60\u001b[0m     \u001b[1;32mreturn\u001b[0m \u001b[0mD\u001b[0m\u001b[1;33m\u001b[0m\u001b[0m\n\u001b[1;32m---> 61\u001b[1;33m \u001b[0murlcheck\u001b[0m\u001b[1;33m(\u001b[0m\u001b[1;34m\"http://www.google.com\"\u001b[0m\u001b[1;33m)\u001b[0m\u001b[1;33m\u001b[0m\u001b[0m\n\u001b[0m\u001b[0;32m     62\u001b[0m \u001b[0murlcheck\u001b[0m\u001b[1;33m(\u001b[0m\u001b[1;34m\"http://www.github.com\"\u001b[0m\u001b[1;33m)\u001b[0m\u001b[1;33m\u001b[0m\u001b[0m\n\u001b[0;32m     63\u001b[0m \u001b[0murlcheck\u001b[0m\u001b[1;33m(\u001b[0m\u001b[1;34m\"http://www.yahoo.com\"\u001b[0m\u001b[1;33m)\u001b[0m\u001b[1;33m\u001b[0m\u001b[0m\n",
      "\u001b[1;32m<ipython-input-19-49f7576d99d8>\u001b[0m in \u001b[0;36murlcheck\u001b[1;34m(a)\u001b[0m\n\u001b[0;32m      7\u001b[0m     \u001b[0mf\u001b[0m \u001b[1;33m=\u001b[0m \u001b[0mrequest\u001b[0m\u001b[1;33m.\u001b[0m\u001b[0murlopen\u001b[0m\u001b[1;33m(\u001b[0m\u001b[0murl\u001b[0m\u001b[1;33m)\u001b[0m\u001b[1;33m\u001b[0m\u001b[0m\n\u001b[0;32m      8\u001b[0m     \u001b[0msource_bytes\u001b[0m \u001b[1;33m=\u001b[0m \u001b[0mf\u001b[0m\u001b[1;33m.\u001b[0m\u001b[0mread\u001b[0m\u001b[1;33m(\u001b[0m\u001b[1;33m)\u001b[0m\u001b[1;33m\u001b[0m\u001b[0m\n\u001b[1;32m----> 9\u001b[1;33m     \u001b[0msource\u001b[0m \u001b[1;33m=\u001b[0m \u001b[0msource_bytes\u001b[0m\u001b[1;33m.\u001b[0m\u001b[0mdecode\u001b[0m\u001b[1;33m(\u001b[0m\u001b[1;34m'utf-8'\u001b[0m\u001b[1;33m)\u001b[0m\u001b[1;33m\u001b[0m\u001b[0m\n\u001b[0m\u001b[0;32m     10\u001b[0m \u001b[1;33m\u001b[0m\u001b[0m\n\u001b[0;32m     11\u001b[0m     \u001b[0mfilename\u001b[0m\u001b[1;33m=\u001b[0m\u001b[0ma\u001b[0m\u001b[1;33m[\u001b[0m\u001b[1;36m7\u001b[0m\u001b[1;33m:\u001b[0m\u001b[1;33m]\u001b[0m\u001b[1;33m+\u001b[0m\u001b[1;34m\".htmp\"\u001b[0m\u001b[1;33m\u001b[0m\u001b[0m\n",
      "\u001b[1;31mUnicodeDecodeError\u001b[0m: 'utf-8' codec can't decode byte 0xb1 in position 4005: invalid start byte"
     ]
    }
   ],
   "source": [
    "from urllib import request \n",
    "import string\n",
    "import pickle\n",
    "\n",
    "def urlcheck(a):\n",
    "    url = a\n",
    "    f = request.urlopen(url)\n",
    "    source_bytes = f.read()\n",
    "    source = source_bytes.decode('utf-8')\n",
    "    \n",
    "    filename=a[7:]+\".htmp\"\n",
    "    f=open(filename, 'w')\n",
    "    f.write(source)\n",
    "    f.close()\n",
    "    count=0\n",
    "    count_com=0\n",
    "    word=\"\"\n",
    "    for i in range(len(source)):\n",
    "        if(count==0 and count_com==0):\n",
    "           word+=source[i]\n",
    "        if(source[i]=='>'):\n",
    "            count-=1\n",
    "            if(source[i-1]=='-' and source[i-2]=='-'):\n",
    "                count_com-=1\n",
    "                count+=1\n",
    "        if(count_com!=0):\n",
    "            if(source[i]=='>'):\n",
    "                count+=1\n",
    "            continue\n",
    "        if(source[i]=='<'):\n",
    "            count+=1\n",
    "            if(source[i+1]=='!' and source[i+2]=='-' and source[i+3]=='-'):\n",
    "                count_com+=1\n",
    "                count-=1\n",
    "    word=word.replace('<', '')\n",
    "    word=word.split()\n",
    "    punct=string.punctuation\n",
    "    for i in range(len(word)):\n",
    "        for j in range(len(punct)):\n",
    "            if(punct[j] in word[i]):\n",
    "                word[i]=word[i].replace(punct[j], '')\n",
    "                \n",
    "    for i in range(word.count('')):\n",
    "        word.remove('')\n",
    "    value=[]\n",
    "    for i in word:\n",
    "        count_word=0\n",
    "        for j in word:\n",
    "            if(i==j):\n",
    "                count_word+=1\n",
    "        value.append(count_word)\n",
    "    for c in stop_word:\n",
    "        for i in range(word.count(c)):\n",
    "            word.remove(c)\n",
    "    D=dict(zip(word,value))\n",
    "    filename=a[7:]+'.words.frequency'\n",
    "    f = open(filename, 'w')\n",
    "    pickle.dump(dict1,f)\n",
    "    f.close()\n",
    "    return D\n",
    "urlcheck(\"http://www.google.com\")\n",
    "urlcheck(\"http://www.github.com\")\n",
    "urlcheck(\"http://www.yahoo.com\")\n",
    "urlcheck(\"http://www.bing.com\")\n",
    "urlcheck(\"http://www.nytimes.com\")"
   ]
  },
  {
   "cell_type": "markdown",
   "metadata": {
    "collapsed": true
   },
   "source": [
    "# 마무리"
   ]
  },
  {
   "cell_type": "markdown",
   "metadata": {
    "collapsed": true
   },
   "source": [
    "처음에는 파일입출력을 잘하지 못해서 헤맸습니다. 이후 조금씩 익숙해지면서 과제를 할 수 있었지만 2번 문제의 암호화가 구글링을 해봐서 찾을 수가 없어서 하지 못했습니다. 또한 마지막문제는 알고리즘상 되는 것같은데 uft-8에서 에러가 나와 마무리하지 못했습니다."
   ]
  },
  {
   "cell_type": "code",
   "execution_count": null,
   "metadata": {
    "collapsed": true
   },
   "outputs": [],
   "source": []
  }
 ],
 "metadata": {
  "kernelspec": {
   "display_name": "Python 3",
   "language": "python",
   "name": "python3"
  },
  "language_info": {
   "codemirror_mode": {
    "name": "ipython",
    "version": 3
   },
   "file_extension": ".py",
   "mimetype": "text/x-python",
   "name": "python",
   "nbconvert_exporter": "python",
   "pygments_lexer": "ipython3",
   "version": "3.6.1"
  }
 },
 "nbformat": 4,
 "nbformat_minor": 2
}
